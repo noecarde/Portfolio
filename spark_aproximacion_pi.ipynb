{
 "cells": [
  {
   "cell_type": "markdown",
   "metadata": {
    "application/vnd.databricks.v1+cell": {
     "cellMetadata": {},
     "inputWidgets": {},
     "nuid": "334690c6-fec9-49d0-ab93-0188ae56b8fd",
     "showTitle": false,
     "title": ""
    }
   },
   "source": [
    "# Exercise\n",
    "\n",
    "Compute Pi using the following expression:\n",
    "\t\t$$ \\pi = \\sqrt{6 + \\frac{6}{2^2} + \\frac{6}{3^2} + \\ldots} = \\sqrt{\\sum_{i=1}^{n}\\frac{6}{i^2}} $$"
   ]
  },
  {
   "cell_type": "code",
   "execution_count": 0,
   "metadata": {
    "application/vnd.databricks.v1+cell": {
     "cellMetadata": {},
     "inputWidgets": {},
     "nuid": "f8201359-e2c7-4b37-b2bb-d1db7d84bae1",
     "showTitle": false,
     "title": ""
    }
   },
   "outputs": [
    {
     "name": "stdout",
     "output_type": "stream",
     "text": [
      "3.141583104230951\n"
     ]
    }
   ],
   "source": [
    "n=100000\n",
    "rdd= sc.parallelize(range(1,n))\n",
    "rdd1= rdd.map(lambda i: (1/i**2))\n",
    "rdd2= rdd1.reduce(lambda a,b: a+b)\n",
    "rdd3= (rdd2*6)**0.5\n",
    "print(rdd3)"
   ]
  }
 ],
 "metadata": {
  "application/vnd.databricks.v1+notebook": {
   "dashboards": [],
   "language": "python",
   "notebookMetadata": {
    "pythonIndentUnit": 2
   },
   "notebookName": "pi_exercise",
   "notebookOrigID": 57257635066246,
   "widgets": {}
  },
  "kernelspec": {
   "display_name": "Python 3 (ipykernel)",
   "language": "python",
   "name": "python3"
  },
  "language_info": {
   "codemirror_mode": {
    "name": "ipython",
    "version": 3
   },
   "file_extension": ".py",
   "mimetype": "text/x-python",
   "name": "python",
   "nbconvert_exporter": "python",
   "pygments_lexer": "ipython3",
   "version": "3.9.12"
  }
 },
 "nbformat": 4,
 "nbformat_minor": 1
}
